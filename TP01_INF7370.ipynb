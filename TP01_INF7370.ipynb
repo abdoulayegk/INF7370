{
 "cells": [
  {
   "cell_type": "code",
   "execution_count": 1,
   "id": "00ae6130-7eb1-42f3-953f-a4cc6c6e7f0d",
   "metadata": {},
   "outputs": [],
   "source": [
    "import pandas as pd\n",
    "import re\n",
    "import polars as pl\n",
    "import jupyter_black\n",
    "\n",
    "jupyter_black.load()\n"
   ]
  },
  {
   "cell_type": "code",
   "execution_count": 2,
   "id": "c4c859de-1779-46b2-9c22-331abfff3b6b",
   "metadata": {
    "scrolled": true
   },
   "outputs": [],
   "source": [
    "def read_and_process_files():\n",
    "    # Read content polluters profile data\n",
    "    polluters_profile = pd.read_table(\n",
    "        \"Datasets/content_polluters.txt\",\n",
    "        header=None,\n",
    "        names=[\n",
    "            \"UserID\",\n",
    "            \"CreatedAt\",\n",
    "            \"CollectedAt\",\n",
    "            \"NumberOfFollowings\",\n",
    "            \"NumberOfFollowers\",\n",
    "            \"NumberOfTweets\",\n",
    "            \"LengthOfScreenName\",\n",
    "            \"LengthOfDescriptionInUserProfile\",\n",
    "        ],\n",
    "    )\n",
    "    \"\"\"Here we are going to create all the new features that are related to the dataset polluters and we will do the same later for the other one too.\"\"\"\n",
    "    polluters_profile[\"FollowingFollowersRatio\"] = (\n",
    "        polluters_profile[\"NumberOfFollowings\"] / polluters_profile[\"NumberOfFollowers\"]\n",
    "    )\n",
    "    # Convert date columns to datetime\n",
    "    polluters_profile[\"CreatedAt\"] = pd.to_datetime(polluters_profile[\"CreatedAt\"])\n",
    "    polluters_profile[\"CollectedAt\"] = pd.to_datetime(polluters_profile[\"CollectedAt\"])\n",
    "\n",
    "    # Calculate account lifetime in days or Durée de vie du compte\n",
    "    polluters_profile[\"AccountLifetime\"] = (\n",
    "        polluters_profile[\"CollectedAt\"] - polluters_profile[\"CreatedAt\"]\n",
    "    ).dt.days\n",
    "\n",
    "    # Calculate average tweets per day\n",
    "    polluters_profile[\"AverageTweetsPerDay\"] = (\n",
    "        polluters_profile[\"NumberOfTweets\"] / polluters_profile[\"AccountLifetime\"]\n",
    "    )\n",
    "\n",
    "    # ================================= End of content_polluters==========================================\n",
    "\n",
    "    # Read content polluters followings data\n",
    "    polluters_followings = pd.read_table(\n",
    "        \"Datasets/content_polluters_followings.txt\",\n",
    "        header=None,\n",
    "        names=[\"UserID\", \"SeriesOfNumberOfFollowings\"],\n",
    "    )\n",
    "\n",
    "    # ================================= End of content_polluters_followings==========================================\n",
    "\n",
    "    # Read content polluters tweets data\n",
    "    polluters_tweets = pd.read_table(\n",
    "        \"Datasets/content_polluters_tweets.txt\",\n",
    "        header=None,\n",
    "        names=[\"UserID\", \"TweetID\", \"Tweet\", \"CreatedAt\"],\n",
    "    )\n",
    "\n",
    "    # ===================================reading the legitimate datasets=========================================\n",
    "    # Read legitimate users profile data\n",
    "    legitimate_profile = pd.read_table(\n",
    "        \"Datasets/legitimate_users.txt\",\n",
    "        header=None,\n",
    "        names=[\n",
    "            \"UserID\",\n",
    "            \"CreatedAt\",\n",
    "            \"CollectedAt\",\n",
    "            \"NumberOfFollowings\",\n",
    "            \"NumberOfFollowers\",\n",
    "            \"NumberOfTweets\",\n",
    "            \"LengthOfScreenName\",\n",
    "            \"LengthOfDescriptionInUserProfile\",\n",
    "        ],\n",
    "    )\n",
    "    legitimate_profile[\"FollowingFollowersRatio\"] = (\n",
    "        legitimate_profile[\"NumberOfFollowings\"]\n",
    "        / legitimate_profile[\"NumberOfFollowers\"]\n",
    "    )\n",
    "\n",
    "    # Convert date columns to datetime\n",
    "    legitimate_profile[\"CreatedAt\"] = pd.to_datetime(legitimate_profile[\"CreatedAt\"])\n",
    "    legitimate_profile[\"CollectedAt\"] = pd.to_datetime(\n",
    "        legitimate_profile[\"CollectedAt\"]\n",
    "    )\n",
    "\n",
    "    # Calculate account lifetime in days or Durée de vie du compte\n",
    "    legitimate_profile[\"AccountLifetime\"] = (\n",
    "        legitimate_profile[\"CollectedAt\"] - legitimate_profile[\"CreatedAt\"]\n",
    "    ).dt.days\n",
    "\n",
    "    # Calculate average tweets per day\n",
    "    legitimate_profile[\"AverageTweetsPerDay\"] = (\n",
    "        legitimate_profile[\"NumberOfTweets\"] / legitimate_profile[\"AccountLifetime\"]\n",
    "    )\n",
    "\n",
    "    # Read legitimate users followings data\n",
    "    legitimate_followings = pd.read_table(\n",
    "        \"Datasets/legitimate_users_followings.txt\",\n",
    "        header=None,\n",
    "        names=[\"UserID\", \"SeriesOfNumberOfFollowings\"],\n",
    "    )\n",
    "    # legitimate_followings[\"SeriesOfNumberOfFollowings\"] = legitimate_followings[\"SeriesOfNumberOfFollowings\"].apply(lambda x: list(map(int, x.split(\",\"))))\n",
    "\n",
    "    # Read legitimate users tweets data\n",
    "    legitimate_tweets = pd.read_table(\n",
    "        \"Datasets/legitimate_users_tweets.txt\",\n",
    "        header=None,\n",
    "        names=[\"UserID\", \"TweetID\", \"Tweet\", \"CreatedAt\"],\n",
    "    )\n",
    "\n",
    "    # Return all dataframes\n",
    "    return {\n",
    "        \"polluters_profile\": polluters_profile,\n",
    "        \"polluters_followings\": polluters_followings,\n",
    "        \"polluters_tweets\": polluters_tweets,\n",
    "        \"legitimate_profile\": legitimate_profile,\n",
    "        \"legitimate_followings\": legitimate_followings,\n",
    "        \"legitimate_tweets\": legitimate_tweets,\n",
    "    }\n",
    "\n",
    "\n",
    "# Reading all the files and preprocess some of them.\n",
    "data = read_and_process_files()\n",
    "# data[\"polluters_profile\"].head()\n",
    "\n",
    "\n",
    "# Separation de data\n",
    "df_polluters = data[\"polluters_profile\"]\n",
    "df_polluters_tweets = data[\"polluters_tweets\"]\n",
    "df_polluters_followings = data[\"polluters_followings\"]\n",
    "\n",
    "# ===============================Legitimate data=========================================\n",
    "\n",
    "df_legitimate = data[\"legitimate_profile\"]\n",
    "df_legitimate_tweets = data[\"legitimate_tweets\"]\n",
    "df_legitimate_followings = data[\"legitimate_followings\"]\n",
    "\n",
    "\n",
    "# ====================================== Creating the attribut restants=========================\n",
    "# Fonction pour compter les URLs dans un tweet\n",
    "def count_urls(text):\n",
    "    urls = re.findall(\n",
    "        r\"http[s]?://(?:[a-zA-Z]|[0-9]|[$-_@.&+]|[!*\\\\(\\\\),]|(?:%[0-9a-fA-F][0-9a-fA-F]))+\",\n",
    "        str(text),\n",
    "    )\n",
    "    return len(urls)\n",
    "\n",
    "\n",
    "# Compter le nombre d'URL dans chaque tweet\n",
    "df_polluters_tweets[\"URL_Count\"] = df_polluters_tweets[\"Tweet\"].apply(count_urls)\n",
    "df_polluters_tweets[\"Proportion_URL\"] = df_polluters_tweets[\n",
    "    \"URL_Count\"\n",
    "] / df_polluters_tweets[\"Tweet\"].notna().astype(int)\n",
    "\n",
    "# Apply URL count function to legitimate tweets\n",
    "df_legitimate_tweets[\"URL_Count\"] = df_legitimate_tweets[\"Tweet\"].apply(count_urls)\n",
    "df_legitimate_tweets[\"Proportion_URL\"] = df_legitimate_tweets[\n",
    "    \"URL_Count\"\n",
    "] / df_legitimate_tweets[\"Tweet\"].notna().astype(int)\n",
    "\n",
    "\n",
    "# time difference between tweets\n",
    "# Calcul du Temps moyen et maximal entre deux tweets consécutifs\n",
    "\n",
    "\n",
    "def calcul_time_diff(df):\n",
    "    # Convertir la colonne CreatedAt en datetime\n",
    "    df[\"CreatedAt\"] = pd.to_datetime(df[\"CreatedAt\"])\n",
    "\n",
    "    # Trier les tweets par utilisateur et par date\n",
    "    df = df.sort_values(by=[\"UserID\", \"CreatedAt\"])\n",
    "\n",
    "    # Calculer la différence de temps entre deux tweets consécutifs\n",
    "    df[\"Time_Diff\"] = df.groupby(\"UserID\")[\"CreatedAt\"].diff()\n",
    "\n",
    "    # Convertir la différence de temps en secondes\n",
    "    df[\"Time_Diff_Seconds\"] = df[\"Time_Diff\"].dt.total_seconds()\n",
    "\n",
    "    # Calculer le temps moyen et maximal entre deux tweets consécutifs par utilisateur\n",
    "    time_stats = (\n",
    "        df.groupby(\"UserID\")[\"Time_Diff_Seconds\"].agg([\"mean\", \"max\"]).reset_index()\n",
    "    )\n",
    "    time_stats.columns = [\n",
    "        \"UserID\",\n",
    "        \"Mean_Time_Between_Tweets\",\n",
    "        \"Max_Time_Between_Tweets\",\n",
    "    ]\n",
    "    return time_stats\n",
    "\n",
    "\n",
    "def calculate_at_proportion(df):\n",
    "    \"\"\"\n",
    "    Calculate the proportion of '@' mentions in the 'Tweet' column of a dataframe.\n",
    "\n",
    "    Parameters:\n",
    "        df (pd.DataFrame): The input dataframe containing a 'Tweet' column.\n",
    "\n",
    "    Returns:\n",
    "        pd.DataFrame: The modified dataframe with new columns:\n",
    "                     - 'count_AT': Number of '@' mentions in each tweet.\n",
    "                     - 'Tweet_Length': Length of each tweet.\n",
    "                     - 'Proportion_AT': Proportion of '@' mentions in each tweet.\n",
    "    \"\"\"\n",
    "    # Ensure the 'Tweet' column is treated as a string\n",
    "    df[\"Tweet\"] = df[\"Tweet\"].astype(str)\n",
    "\n",
    "    # Count the number of '@' mentions in each tweet\n",
    "    df[\"count_AT\"] = df[\"Tweet\"].apply(lambda x: x.count(\"@\"))\n",
    "\n",
    "    # Calculate the length of each tweet\n",
    "    df[\"Tweet_Length\"] = df[\"Tweet\"].apply(len)\n",
    "\n",
    "    # Calculate the proportion of '@' mentions\n",
    "    df[\"Proportion_AT\"] = df.apply(\n",
    "        lambda row: (\n",
    "            row[\"count_AT\"] / row[\"Tweet_Length\"] if row[\"Tweet_Length\"] != 0 else 0\n",
    "        ),\n",
    "        axis=1,\n",
    "    )\n",
    "\n",
    "    return df\n",
    "\n",
    "\n",
    "# ==============================porportion at ==================================\n",
    "df_legitimate_tweets = calculate_at_proportion(df_legitimate_tweets)\n",
    "df_polluters_tweets = calculate_at_proportion(df_polluters_tweets)\n",
    "\n",
    "# Pour les donnees polluters\n",
    "time_diff_polluters = calcul_time_diff(df_polluters_tweets)\n",
    "\n",
    "df_polluters = df_polluters.merge(time_diff_polluters, on=\"UserID\", how=\"left\")\n",
    "# Pour les donnees Legitimate\n",
    "time_diff_legitimate = calcul_time_diff(df_legitimate_tweets)\n",
    "\n",
    "df_legitimate = df_legitimate.merge(time_diff_legitimate, on=\"UserID\", how=\"left\")\n",
    "\n",
    "\n",
    "# pour les donnees legitimate et polluters on va selectionner les colonnes qu'on veut seulement ici\n",
    "\n",
    "df_no_duplicates_polluters_tweets = df_polluters_tweets.drop_duplicates(\n",
    "    subset=\"UserID\", keep=\"first\"\n",
    ")\n",
    "\n",
    "df_no_duplicates_legitimate_tweets = df_legitimate_tweets.drop_duplicates(\n",
    "    subset=\"UserID\", keep=\"first\"\n",
    ")\n",
    "\n",
    "\n",
    "\n",
    "df_polluters_tweets = df_no_duplicates_polluters_tweets[\n",
    "    [\"URL_Count\", \"Proportion_URL\", \"count_AT\", \"Tweet_Length\", \"Proportion_AT\"]\n",
    "]\n",
    "df_legitimate_tweets = df_no_duplicates_legitimate_tweets[\n",
    "    [\"URL_Count\", \"Proportion_URL\", \"count_AT\", \"Tweet_Length\", \"Proportion_AT\"]\n",
    "]\n",
    "\n",
    "# Reinitialisation des indexes pour pouvoir combinner les donnes\n",
    "df_legitimate_tweets = df_legitimate_tweets.reset_index(drop=True)\n",
    "df_legitimate = df_legitimate.reset_index(drop=True)\n",
    "\n",
    "df_polluters = df_polluters.reset_index(drop=True)\n",
    "df_polluters_tweets = df_polluters_tweets.reset_index(drop=True)\n",
    "\n",
    "# Now we are gonna delete some features that we don't need on both files legitimate and polluters\n",
    "df_polluters = df_polluters.drop([\"UserID\", \"CreatedAt\", \"CollectedAt\"], axis=1)\n",
    "df_legitimate = df_legitimate.drop([\"UserID\", \"CreatedAt\", \"CollectedAt\"], axis=1)\n",
    "\n",
    "#  Now we are gonna combine the file based on polluters and legitimates\n",
    "df_polluters_final = pd.concat([df_polluters, df_polluters_tweets], axis=1)\n",
    "\n",
    "df_legitimate_final = pd.concat([df_legitimate, df_legitimate_tweets], axis=1)\n",
    "\n",
    "# Add a 'Class' column to indicate polluters (1) and legitimate users (0)\n",
    "df_polluters_final[\"Class\"] = 1  # Polluters\n",
    "df_legitimate_final[\"Class\"] = 0  # Legitimate users\n",
    "\n",
    "# Combining the two datasets into a single one and save the result on a csv format\n",
    "df_final = pd.concat(\n",
    "    [df_polluters_final, df_legitimate_final], axis=0, ignore_index=True\n",
    ")\n",
    "df_final.to_csv(\"Combined_datasets.csv\", index=False)"
   ]
  },
  {
   "cell_type": "code",
   "execution_count": null,
   "id": "65847213-281e-45cd-bb98-e583cdc20e6c",
   "metadata": {},
   "outputs": [],
   "source": []
  },
  {
   "cell_type": "code",
   "execution_count": 3,
   "id": "79a962c9-2e84-49bd-9e0d-8ee7cb4f7594",
   "metadata": {},
   "outputs": [
    {
     "data": {
      "text/html": [
       "<div>\n",
       "<style scoped>\n",
       "    .dataframe tbody tr th:only-of-type {\n",
       "        vertical-align: middle;\n",
       "    }\n",
       "\n",
       "    .dataframe tbody tr th {\n",
       "        vertical-align: top;\n",
       "    }\n",
       "\n",
       "    .dataframe thead th {\n",
       "        text-align: right;\n",
       "    }\n",
       "</style>\n",
       "<table border=\"1\" class=\"dataframe\">\n",
       "  <thead>\n",
       "    <tr style=\"text-align: right;\">\n",
       "      <th></th>\n",
       "      <th>NumberOfFollowings</th>\n",
       "      <th>NumberOfFollowers</th>\n",
       "      <th>NumberOfTweets</th>\n",
       "      <th>LengthOfScreenName</th>\n",
       "      <th>LengthOfDescriptionInUserProfile</th>\n",
       "      <th>FollowingFollowersRatio</th>\n",
       "      <th>AccountLifetime</th>\n",
       "      <th>AverageTweetsPerDay</th>\n",
       "      <th>Mean_Time_Between_Tweets</th>\n",
       "      <th>Max_Time_Between_Tweets</th>\n",
       "      <th>URL_Count</th>\n",
       "      <th>Proportion_URL</th>\n",
       "      <th>count_AT</th>\n",
       "      <th>Tweet_Length</th>\n",
       "      <th>Proportion_AT</th>\n",
       "      <th>Class</th>\n",
       "    </tr>\n",
       "  </thead>\n",
       "  <tbody>\n",
       "    <tr>\n",
       "      <th>0</th>\n",
       "      <td>3269</td>\n",
       "      <td>3071</td>\n",
       "      <td>861</td>\n",
       "      <td>8</td>\n",
       "      <td>132</td>\n",
       "      <td>1.064474</td>\n",
       "      <td>1217</td>\n",
       "      <td>0.707477</td>\n",
       "      <td>29533.185930</td>\n",
       "      <td>264985.0</td>\n",
       "      <td>1.0</td>\n",
       "      <td>1.0</td>\n",
       "      <td>0.0</td>\n",
       "      <td>134.0</td>\n",
       "      <td>0.000000</td>\n",
       "      <td>1</td>\n",
       "    </tr>\n",
       "    <tr>\n",
       "      <th>1</th>\n",
       "      <td>1949</td>\n",
       "      <td>793</td>\n",
       "      <td>226</td>\n",
       "      <td>9</td>\n",
       "      <td>134</td>\n",
       "      <td>2.457755</td>\n",
       "      <td>1329</td>\n",
       "      <td>0.170053</td>\n",
       "      <td>263780.025381</td>\n",
       "      <td>7649040.0</td>\n",
       "      <td>1.0</td>\n",
       "      <td>1.0</td>\n",
       "      <td>0.0</td>\n",
       "      <td>38.0</td>\n",
       "      <td>0.000000</td>\n",
       "      <td>1</td>\n",
       "    </tr>\n",
       "    <tr>\n",
       "      <th>2</th>\n",
       "      <td>1119</td>\n",
       "      <td>9644</td>\n",
       "      <td>38674</td>\n",
       "      <td>12</td>\n",
       "      <td>158</td>\n",
       "      <td>0.116031</td>\n",
       "      <td>1272</td>\n",
       "      <td>30.404088</td>\n",
       "      <td>1705.964286</td>\n",
       "      <td>43858.0</td>\n",
       "      <td>0.0</td>\n",
       "      <td>0.0</td>\n",
       "      <td>1.0</td>\n",
       "      <td>93.0</td>\n",
       "      <td>0.010753</td>\n",
       "      <td>1</td>\n",
       "    </tr>\n",
       "    <tr>\n",
       "      <th>3</th>\n",
       "      <td>2174</td>\n",
       "      <td>6029</td>\n",
       "      <td>12718</td>\n",
       "      <td>11</td>\n",
       "      <td>121</td>\n",
       "      <td>0.360590</td>\n",
       "      <td>1105</td>\n",
       "      <td>11.509502</td>\n",
       "      <td>7551.668342</td>\n",
       "      <td>74830.0</td>\n",
       "      <td>0.0</td>\n",
       "      <td>0.0</td>\n",
       "      <td>0.0</td>\n",
       "      <td>102.0</td>\n",
       "      <td>0.000000</td>\n",
       "      <td>1</td>\n",
       "    </tr>\n",
       "    <tr>\n",
       "      <th>4</th>\n",
       "      <td>7731</td>\n",
       "      <td>7029</td>\n",
       "      <td>873</td>\n",
       "      <td>6</td>\n",
       "      <td>70</td>\n",
       "      <td>1.099872</td>\n",
       "      <td>1105</td>\n",
       "      <td>0.790045</td>\n",
       "      <td>13131.241206</td>\n",
       "      <td>354362.0</td>\n",
       "      <td>0.0</td>\n",
       "      <td>0.0</td>\n",
       "      <td>0.0</td>\n",
       "      <td>42.0</td>\n",
       "      <td>0.000000</td>\n",
       "      <td>1</td>\n",
       "    </tr>\n",
       "  </tbody>\n",
       "</table>\n",
       "</div>"
      ],
      "text/plain": [
       "   NumberOfFollowings  NumberOfFollowers  NumberOfTweets  LengthOfScreenName  \\\n",
       "0                3269               3071             861                   8   \n",
       "1                1949                793             226                   9   \n",
       "2                1119               9644           38674                  12   \n",
       "3                2174               6029           12718                  11   \n",
       "4                7731               7029             873                   6   \n",
       "\n",
       "   LengthOfDescriptionInUserProfile  FollowingFollowersRatio  AccountLifetime  \\\n",
       "0                               132                 1.064474             1217   \n",
       "1                               134                 2.457755             1329   \n",
       "2                               158                 0.116031             1272   \n",
       "3                               121                 0.360590             1105   \n",
       "4                                70                 1.099872             1105   \n",
       "\n",
       "   AverageTweetsPerDay  Mean_Time_Between_Tweets  Max_Time_Between_Tweets  \\\n",
       "0             0.707477              29533.185930                 264985.0   \n",
       "1             0.170053             263780.025381                7649040.0   \n",
       "2            30.404088               1705.964286                  43858.0   \n",
       "3            11.509502               7551.668342                  74830.0   \n",
       "4             0.790045              13131.241206                 354362.0   \n",
       "\n",
       "   URL_Count  Proportion_URL  count_AT  Tweet_Length  Proportion_AT  Class  \n",
       "0        1.0             1.0       0.0         134.0       0.000000      1  \n",
       "1        1.0             1.0       0.0          38.0       0.000000      1  \n",
       "2        0.0             0.0       1.0          93.0       0.010753      1  \n",
       "3        0.0             0.0       0.0         102.0       0.000000      1  \n",
       "4        0.0             0.0       0.0          42.0       0.000000      1  "
      ]
     },
     "execution_count": 3,
     "metadata": {},
     "output_type": "execute_result"
    }
   ],
   "source": [
    "df_polluters_final.head()"
   ]
  },
  {
   "cell_type": "code",
   "execution_count": 4,
   "id": "b6f45183-a6cd-4664-8199-9751f5cffc11",
   "metadata": {},
   "outputs": [
    {
     "data": {
      "text/html": [
       "<div>\n",
       "<style scoped>\n",
       "    .dataframe tbody tr th:only-of-type {\n",
       "        vertical-align: middle;\n",
       "    }\n",
       "\n",
       "    .dataframe tbody tr th {\n",
       "        vertical-align: top;\n",
       "    }\n",
       "\n",
       "    .dataframe thead th {\n",
       "        text-align: right;\n",
       "    }\n",
       "</style>\n",
       "<table border=\"1\" class=\"dataframe\">\n",
       "  <thead>\n",
       "    <tr style=\"text-align: right;\">\n",
       "      <th></th>\n",
       "      <th>NumberOfFollowings</th>\n",
       "      <th>NumberOfFollowers</th>\n",
       "      <th>NumberOfTweets</th>\n",
       "      <th>LengthOfScreenName</th>\n",
       "      <th>LengthOfDescriptionInUserProfile</th>\n",
       "      <th>FollowingFollowersRatio</th>\n",
       "      <th>AccountLifetime</th>\n",
       "      <th>AverageTweetsPerDay</th>\n",
       "      <th>Mean_Time_Between_Tweets</th>\n",
       "      <th>Max_Time_Between_Tweets</th>\n",
       "      <th>URL_Count</th>\n",
       "      <th>Proportion_URL</th>\n",
       "      <th>count_AT</th>\n",
       "      <th>Tweet_Length</th>\n",
       "      <th>Proportion_AT</th>\n",
       "      <th>Class</th>\n",
       "    </tr>\n",
       "  </thead>\n",
       "  <tbody>\n",
       "    <tr>\n",
       "      <th>0</th>\n",
       "      <td>510</td>\n",
       "      <td>350</td>\n",
       "      <td>3265</td>\n",
       "      <td>10</td>\n",
       "      <td>34</td>\n",
       "      <td>1.457143</td>\n",
       "      <td>1226</td>\n",
       "      <td>2.663132</td>\n",
       "      <td>10839.075377</td>\n",
       "      <td>91280.0</td>\n",
       "      <td>0.0</td>\n",
       "      <td>0.0</td>\n",
       "      <td>0.0</td>\n",
       "      <td>60.0</td>\n",
       "      <td>0.000000</td>\n",
       "      <td>0</td>\n",
       "    </tr>\n",
       "    <tr>\n",
       "      <th>1</th>\n",
       "      <td>304</td>\n",
       "      <td>443</td>\n",
       "      <td>4405</td>\n",
       "      <td>7</td>\n",
       "      <td>156</td>\n",
       "      <td>0.686230</td>\n",
       "      <td>1219</td>\n",
       "      <td>3.613618</td>\n",
       "      <td>8288.050251</td>\n",
       "      <td>73558.0</td>\n",
       "      <td>0.0</td>\n",
       "      <td>0.0</td>\n",
       "      <td>1.0</td>\n",
       "      <td>136.0</td>\n",
       "      <td>0.007353</td>\n",
       "      <td>0</td>\n",
       "    </tr>\n",
       "    <tr>\n",
       "      <th>2</th>\n",
       "      <td>45</td>\n",
       "      <td>73</td>\n",
       "      <td>725</td>\n",
       "      <td>6</td>\n",
       "      <td>37</td>\n",
       "      <td>0.616438</td>\n",
       "      <td>1219</td>\n",
       "      <td>0.594750</td>\n",
       "      <td>39585.422111</td>\n",
       "      <td>364917.0</td>\n",
       "      <td>0.0</td>\n",
       "      <td>0.0</td>\n",
       "      <td>0.0</td>\n",
       "      <td>111.0</td>\n",
       "      <td>0.000000</td>\n",
       "      <td>0</td>\n",
       "    </tr>\n",
       "    <tr>\n",
       "      <th>3</th>\n",
       "      <td>211</td>\n",
       "      <td>230</td>\n",
       "      <td>211</td>\n",
       "      <td>7</td>\n",
       "      <td>0</td>\n",
       "      <td>0.917391</td>\n",
       "      <td>1226</td>\n",
       "      <td>0.172104</td>\n",
       "      <td>400437.045226</td>\n",
       "      <td>7693877.0</td>\n",
       "      <td>0.0</td>\n",
       "      <td>0.0</td>\n",
       "      <td>1.0</td>\n",
       "      <td>39.0</td>\n",
       "      <td>0.025641</td>\n",
       "      <td>0</td>\n",
       "    </tr>\n",
       "    <tr>\n",
       "      <th>4</th>\n",
       "      <td>7346</td>\n",
       "      <td>7244</td>\n",
       "      <td>11438</td>\n",
       "      <td>8</td>\n",
       "      <td>97</td>\n",
       "      <td>1.014081</td>\n",
       "      <td>1213</td>\n",
       "      <td>9.429514</td>\n",
       "      <td>3655.570707</td>\n",
       "      <td>86675.0</td>\n",
       "      <td>1.0</td>\n",
       "      <td>1.0</td>\n",
       "      <td>0.0</td>\n",
       "      <td>48.0</td>\n",
       "      <td>0.000000</td>\n",
       "      <td>0</td>\n",
       "    </tr>\n",
       "  </tbody>\n",
       "</table>\n",
       "</div>"
      ],
      "text/plain": [
       "   NumberOfFollowings  NumberOfFollowers  NumberOfTweets  LengthOfScreenName  \\\n",
       "0                 510                350            3265                  10   \n",
       "1                 304                443            4405                   7   \n",
       "2                  45                 73             725                   6   \n",
       "3                 211                230             211                   7   \n",
       "4                7346               7244           11438                   8   \n",
       "\n",
       "   LengthOfDescriptionInUserProfile  FollowingFollowersRatio  AccountLifetime  \\\n",
       "0                                34                 1.457143             1226   \n",
       "1                               156                 0.686230             1219   \n",
       "2                                37                 0.616438             1219   \n",
       "3                                 0                 0.917391             1226   \n",
       "4                                97                 1.014081             1213   \n",
       "\n",
       "   AverageTweetsPerDay  Mean_Time_Between_Tweets  Max_Time_Between_Tweets  \\\n",
       "0             2.663132              10839.075377                  91280.0   \n",
       "1             3.613618               8288.050251                  73558.0   \n",
       "2             0.594750              39585.422111                 364917.0   \n",
       "3             0.172104             400437.045226                7693877.0   \n",
       "4             9.429514               3655.570707                  86675.0   \n",
       "\n",
       "   URL_Count  Proportion_URL  count_AT  Tweet_Length  Proportion_AT  Class  \n",
       "0        0.0             0.0       0.0          60.0       0.000000      0  \n",
       "1        0.0             0.0       1.0         136.0       0.007353      0  \n",
       "2        0.0             0.0       0.0         111.0       0.000000      0  \n",
       "3        0.0             0.0       1.0          39.0       0.025641      0  \n",
       "4        1.0             1.0       0.0          48.0       0.000000      0  "
      ]
     },
     "execution_count": 4,
     "metadata": {},
     "output_type": "execute_result"
    }
   ],
   "source": [
    "df_legitimate_final.head()"
   ]
  },
  {
   "cell_type": "code",
   "execution_count": 5,
   "id": "e4146d61-2930-498b-8ed2-234c6c385504",
   "metadata": {},
   "outputs": [],
   "source": [
    "# # Add a 'Class' column to indicate polluters (1) and legitimate users (0)\n",
    "# df_polluters_final[\"Class\"] = 1  # Polluters\n",
    "# df_legitimate_final[\"Class\"] = 0  # Legitimate users"
   ]
  },
  {
   "cell_type": "code",
   "execution_count": 9,
   "id": "88389080-3bfc-4da3-b9a8-25e9528d9fc5",
   "metadata": {},
   "outputs": [],
   "source": [
    "# df_final = pd.concat(\n",
    "#     [df_polluters_final, df_legitimate_final], axis=0, ignore_index=True\n",
    "# )\n",
    "# df_final.head()"
   ]
  },
  {
   "cell_type": "code",
   "execution_count": 10,
   "id": "dcd5c1f5-5f96-4441-8412-2bddb4752f0e",
   "metadata": {},
   "outputs": [
    {
     "data": {
      "text/plain": [
       "(41499, 16)"
      ]
     },
     "execution_count": 10,
     "metadata": {},
     "output_type": "execute_result"
    }
   ],
   "source": [
    "df_final.shape"
   ]
  },
  {
   "cell_type": "code",
   "execution_count": null,
   "id": "b39d753b-12e6-4aa1-a867-eda1b1d55d20",
   "metadata": {},
   "outputs": [],
   "source": []
  },
  {
   "cell_type": "code",
   "execution_count": 8,
   "id": "bff76138-78ee-4c33-bba7-9a3fc92108d9",
   "metadata": {},
   "outputs": [
    {
     "ename": "NameError",
     "evalue": "name 'idkjlkaj' is not defined",
     "output_type": "error",
     "traceback": [
      "\u001b[0;31m---------------------------------------------------------------------------\u001b[0m",
      "\u001b[0;31mNameError\u001b[0m                                 Traceback (most recent call last)",
      "Cell \u001b[0;32mIn[8], line 1\u001b[0m\n\u001b[0;32m----> 1\u001b[0m \u001b[43midkjlkaj\u001b[49m\n",
      "\u001b[0;31mNameError\u001b[0m: name 'idkjlkaj' is not defined"
     ]
    }
   ],
   "source": [
    "idkjlkaj"
   ]
  },
  {
   "cell_type": "code",
   "execution_count": null,
   "id": "0cfc4409-abba-4856-b1e5-a59d4718f8f8",
   "metadata": {},
   "outputs": [],
   "source": []
  },
  {
   "cell_type": "code",
   "execution_count": null,
   "id": "62a8ee07-7efb-4506-aada-23d7b25d1e01",
   "metadata": {},
   "outputs": [],
   "source": []
  },
  {
   "cell_type": "code",
   "execution_count": null,
   "id": "68e46d74-dc05-45cc-99c5-509b79e8fec0",
   "metadata": {},
   "outputs": [],
   "source": [
    "df_legitimate_tweets = df_legitimate_tweets.reset_index(drop=True)\n",
    "df_legitimate = df_legitimate.reset_index(drop=True)\n",
    "\n",
    "df_polluters = df_polluters.reset_index(drop=True)\n",
    "df_polluters_tweets = df_polluters_tweets.reset_index(drop=True)\n",
    "\n",
    "# Now we are gonna delete some features that we don't need on both files legitimate and polluters\n",
    "df_polluters = df_polluters.drop([\"UserID\", \"CreatedAt\", \"CollectedAt\"], axis=1)\n",
    "df_legitimate = df_legitimate.drop([\"UserID\", \"CreatedAt\", \"CollectedAt\"], axis=1)\n",
    "\n",
    "#  Now we are gonna combine the file based on polluters and legitimates\n",
    "df_polluters_final = pd.concat([df_polluters, df_polluters_tweets], axis=1)\n",
    "\n",
    "df_legitimate_final = pd.concat([df_legitimate, df_legitimate_tweets], axis=1)"
   ]
  },
  {
   "cell_type": "code",
   "execution_count": null,
   "id": "07ff5ff4-41c3-4619-af96-d22669403bed",
   "metadata": {},
   "outputs": [],
   "source": [
    "df_polluters_tweets.head()"
   ]
  },
  {
   "cell_type": "code",
   "execution_count": null,
   "id": "f865e632-381d-470c-aded-51117242e1d8",
   "metadata": {},
   "outputs": [],
   "source": [
    "df_polluters_tweets.shape, df_legitimate_tweets.shape"
   ]
  },
  {
   "cell_type": "code",
   "execution_count": null,
   "id": "6480a458-c83b-4b2e-8559-d71411211857",
   "metadata": {
    "scrolled": true
   },
   "outputs": [],
   "source": [
    "df_polluters = df_polluters.drop([\"UserID\", \"CreatedAt\", \"CollectedAt\"], axis=1)\n",
    "df_polluters.head()"
   ]
  },
  {
   "cell_type": "code",
   "execution_count": null,
   "id": "d0c8369f-4545-4593-b9dc-d0d1b6645a49",
   "metadata": {},
   "outputs": [],
   "source": []
  },
  {
   "cell_type": "code",
   "execution_count": null,
   "id": "ac8c4968-b7ed-45c6-a2c5-c904560cdc7f",
   "metadata": {},
   "outputs": [],
   "source": [
    "df_polluters_final = pd.concat([df_polluters, df_polluters_tweets], axis=1)\n",
    "df_polluters_final.head()"
   ]
  },
  {
   "cell_type": "code",
   "execution_count": null,
   "id": "8e024d80-d5ed-48a6-9322-2b65fb55daf2",
   "metadata": {
    "scrolled": true
   },
   "outputs": [],
   "source": [
    "df_polluters_final.isna().sum()"
   ]
  },
  {
   "cell_type": "code",
   "execution_count": null,
   "id": "2f4110b2-e0b2-49b0-a3f4-50ca89766c07",
   "metadata": {},
   "outputs": [],
   "source": [
    "df_polluters_final.shape"
   ]
  },
  {
   "cell_type": "code",
   "execution_count": null,
   "id": "0785b8e8-67cc-4e47-b3e2-69a058e2fe6c",
   "metadata": {},
   "outputs": [],
   "source": [
    "df1 = pd.DataFrame({\"A\": [1, 2, 3]}, index=[\"a\", \"b\", \"c\"])\n",
    "df2 = pd.DataFrame({\"B\": [4, 5]}, index=[\"b\", \"c\"])\n",
    "\n",
    "# Left join (default)\n",
    "result = df1.join(df2)\n",
    "print(df1)"
   ]
  },
  {
   "cell_type": "code",
   "execution_count": null,
   "id": "3c95cab3-5a7e-4031-923f-85a4343f6d80",
   "metadata": {},
   "outputs": [],
   "source": []
  },
  {
   "cell_type": "code",
   "execution_count": null,
   "id": "85c59720-64a0-435d-840f-df357f018cb7",
   "metadata": {},
   "outputs": [],
   "source": []
  },
  {
   "cell_type": "code",
   "execution_count": null,
   "id": "3d1d2307-2197-40cb-8561-807904af6a27",
   "metadata": {},
   "outputs": [],
   "source": []
  },
  {
   "cell_type": "code",
   "execution_count": null,
   "id": "fa73baa4-a5b8-49ec-b885-4b5fe77fafa0",
   "metadata": {},
   "outputs": [],
   "source": [
    "Back up"
   ]
  },
  {
   "cell_type": "code",
   "execution_count": null,
   "id": "91818993-fa55-4962-b0a0-d8c805d69d75",
   "metadata": {},
   "outputs": [],
   "source": [
    "def calculate_at_proportion(df):\n",
    "    \"\"\"\n",
    "    Calculate the proportion of '@' mentions in the 'Tweet' column of a dataframe.\n",
    "\n",
    "    Parameters:\n",
    "        df (pd.DataFrame): The input dataframe containing a 'Tweet' column.\n",
    "\n",
    "    Returns:\n",
    "        pd.DataFrame: The modified dataframe with new columns:\n",
    "                     - 'count_AT': Number of '@' mentions in each tweet.\n",
    "                     - 'Tweet_Length': Length of each tweet.\n",
    "                     - 'Proportion_AT': Proportion of '@' mentions in each tweet.\n",
    "    \"\"\"\n",
    "    # Ensure the 'Tweet' column is treated as a string\n",
    "    df[\"Tweet\"] = df[\"Tweet\"].astype(str)\n",
    "\n",
    "    # Count the number of '@' mentions in each tweet\n",
    "    df[\"count_AT\"] = df[\"Tweet\"].apply(lambda x: x.count(\"@\"))\n",
    "\n",
    "    # Calculate the length of each tweet\n",
    "    df[\"Tweet_Length\"] = df[\"Tweet\"].apply(len)\n",
    "\n",
    "    # Calculate the proportion of '@' mentions\n",
    "    df[\"Proportion_AT\"] = df.apply(\n",
    "        lambda row: (\n",
    "            row[\"count_AT\"] / row[\"Tweet_Length\"] if row[\"Tweet_Length\"] != 0 else 0\n",
    "        ),\n",
    "        axis=1,\n",
    "    )\n",
    "\n",
    "    return df"
   ]
  },
  {
   "cell_type": "code",
   "execution_count": null,
   "id": "d3f5a937-b5a9-4aad-86fc-d341d98c029d",
   "metadata": {},
   "outputs": [],
   "source": [
    "df_legitimate_tweets = calculate_at_proportion(df_legitimate_tweets)\n",
    "df_legitimate_tweets.head()"
   ]
  },
  {
   "cell_type": "code",
   "execution_count": null,
   "id": "e3a22767-5b91-4f04-afd7-99a481a0d9d0",
   "metadata": {},
   "outputs": [],
   "source": [
    "jdjhjd"
   ]
  },
  {
   "cell_type": "code",
   "execution_count": null,
   "id": "d00d1550-0de1-4022-baf5-a45b99a7dda1",
   "metadata": {},
   "outputs": [],
   "source": [
    "df_no_duplicates_legitimate_tweets"
   ]
  },
  {
   "cell_type": "code",
   "execution_count": null,
   "id": "fec92ca7-4cb2-4dfb-819a-0b6dd9f1e0d6",
   "metadata": {},
   "outputs": [],
   "source": [
    "df_polluters.shape"
   ]
  },
  {
   "cell_type": "code",
   "execution_count": null,
   "id": "0360db6a-5802-4c78-9bbc-9ff79dd1177c",
   "metadata": {},
   "outputs": [],
   "source": [
    "df_no_duplicates_legitimate_tweets.sort_values(by=\"UserID\")"
   ]
  },
  {
   "cell_type": "code",
   "execution_count": null,
   "id": "505d3e2e-e7fe-4895-8bc1-2c18bea2f133",
   "metadata": {},
   "outputs": [],
   "source": [
    "22_223 - 19_251"
   ]
  },
  {
   "cell_type": "code",
   "execution_count": null,
   "id": "ce3cc03f-fccd-49e9-94de-990f1eb01234",
   "metadata": {},
   "outputs": [],
   "source": [
    "df_no_duplicates_legitimate_tweets.shape"
   ]
  },
  {
   "cell_type": "code",
   "execution_count": null,
   "id": "735d5bcd-8df9-45fb-82cc-e8060e00275e",
   "metadata": {},
   "outputs": [],
   "source": [
    "df_legitimate.isna().sum()"
   ]
  },
  {
   "cell_type": "code",
   "execution_count": null,
   "id": "78d9f4e9-e20a-485f-95ab-fa7476adf1dd",
   "metadata": {},
   "outputs": [],
   "source": [
    "df_polluters.shape, df_polluters_tweets.shape"
   ]
  },
  {
   "cell_type": "code",
   "execution_count": null,
   "id": "f82c1be4-3303-4f37-863a-2eb101701242",
   "metadata": {
    "scrolled": true
   },
   "outputs": [],
   "source": [
    "df_polluters_tweets.head()"
   ]
  },
  {
   "cell_type": "code",
   "execution_count": null,
   "id": "1cca8ddc-a98c-45d0-a123-ad6e0902ac6c",
   "metadata": {},
   "outputs": [],
   "source": [
    "df_polluters_tweets.shape"
   ]
  },
  {
   "cell_type": "code",
   "execution_count": null,
   "id": "2bf25951-e989-4fe9-8d22-94a28b9c8aba",
   "metadata": {},
   "outputs": [],
   "source": [
    "tx = df_polluters_tweets.drop_duplicates()\n",
    "tx.shape"
   ]
  },
  {
   "cell_type": "code",
   "execution_count": null,
   "id": "e1f79e10-f33f-49f6-b8a0-81ffe611e11b",
   "metadata": {},
   "outputs": [],
   "source": [
    "df_no_duplicates = df_polluters_tweets.drop_duplicates(subset=\"UserID\", keep=\"first\")"
   ]
  },
  {
   "cell_type": "code",
   "execution_count": 11,
   "id": "c2ad5f35-dbc4-4d1f-8736-b44027d6e08a",
   "metadata": {},
   "outputs": [
    {
     "ename": "NameError",
     "evalue": "name 'df_no_duplicates' is not defined",
     "output_type": "error",
     "traceback": [
      "\u001b[0;31m---------------------------------------------------------------------------\u001b[0m",
      "\u001b[0;31mNameError\u001b[0m                                 Traceback (most recent call last)",
      "Cell \u001b[0;32mIn[11], line 1\u001b[0m\n\u001b[0;32m----> 1\u001b[0m \u001b[43mdf_no_duplicates\u001b[49m\u001b[38;5;241m.\u001b[39mshape\n",
      "\u001b[0;31mNameError\u001b[0m: name 'df_no_duplicates' is not defined"
     ]
    }
   ],
   "source": [
    "df_no_duplicates.shape"
   ]
  },
  {
   "cell_type": "code",
   "execution_count": null,
   "id": "90ae2b38-ad3a-4f71-b84b-81d2d72490d8",
   "metadata": {},
   "outputs": [],
   "source": [
    "df_polluters.shape"
   ]
  },
  {
   "cell_type": "code",
   "execution_count": null,
   "id": "19e0120e-b82e-4ce6-8fbc-722f0e3ed250",
   "metadata": {},
   "outputs": [],
   "source": [
    "df_legitimate_tweets.head()"
   ]
  },
  {
   "cell_type": "code",
   "execution_count": null,
   "id": "c8798549-2d64-49d6-b87f-f1d7dd4abc66",
   "metadata": {},
   "outputs": [],
   "source": [
    "djlkjalk"
   ]
  },
  {
   "cell_type": "code",
   "execution_count": null,
   "id": "36456798-4588-410e-bb73-403060d577a6",
   "metadata": {},
   "outputs": [],
   "source": [
    "# def combine_files(df_1, df_2):\n",
    "#     df_1 = df_1.drop([\"UserID\", \"CreatedAt\", \"CollectedAt\"], axis=1).drop_duplicates()\n",
    "#     df_2 = df_2.drop([\"UserID\"], axis=1).drop_duplicates()\n",
    "\n",
    "#     df_final = pd.concat([df_1, df_2], axis=1)\n",
    "#     df_final = df_final.drop([\"TweetID\", \"Tweet\", \"CreatedAt\"], axis=1)\n",
    "#     return df_final\n",
    "\n",
    "\n",
    "# df_polutters_final = combine_files(df_polluters, df_polluters_tweets)\n",
    "# # df_polluters_final.head()"
   ]
  },
  {
   "cell_type": "code",
   "execution_count": null,
   "id": "18755497-3161-4256-b869-1ddc8b57528d",
   "metadata": {
    "scrolled": true
   },
   "outputs": [],
   "source": [
    "# df_polutters_final.head()"
   ]
  },
  {
   "cell_type": "code",
   "execution_count": null,
   "id": "ea93a802-1341-40cb-b02e-9fb203c309d3",
   "metadata": {},
   "outputs": [],
   "source": [
    "# df_polutters_final.isna().sum()"
   ]
  },
  {
   "cell_type": "code",
   "execution_count": null,
   "id": "f4b7f997-1ba6-4d10-ab53-6bdf80420809",
   "metadata": {},
   "outputs": [],
   "source": [
    "# df_polutters_final.sample(10)"
   ]
  },
  {
   "cell_type": "code",
   "execution_count": null,
   "id": "9600c129-2f0c-4f99-81ec-9985fdc00382",
   "metadata": {},
   "outputs": [],
   "source": [
    "df_polluters = df_polluters.drop([\"UserID\", \"CreatedAt\", \"CollectedAt\"], axis=1)\n",
    "df_polluters.head()"
   ]
  },
  {
   "cell_type": "code",
   "execution_count": null,
   "id": "ea1d9c26-1ca7-47c2-b1ed-c139d435a804",
   "metadata": {},
   "outputs": [],
   "source": [
    "df_polluters_tweets.drop([\"UserID\"], axis=1, inplace=True)"
   ]
  },
  {
   "cell_type": "code",
   "execution_count": null,
   "id": "75939f27-cd2f-4336-bfd4-2f3b3cc7be45",
   "metadata": {},
   "outputs": [],
   "source": [
    "df_polluters_tweets.head()"
   ]
  },
  {
   "cell_type": "code",
   "execution_count": null,
   "id": "18c3d075-2d38-48d7-a8fc-b26d240aeb4b",
   "metadata": {},
   "outputs": [],
   "source": [
    "df_final = pd.concat([df_polluters, df_polluters_tweets], axis=1)\n",
    "df_polluters_final = df_final.drop([\"TweetID\", \"Tweet\", \"CreatedAt\"], axis=1)\n",
    "df_polluters_final.head()"
   ]
  },
  {
   "cell_type": "code",
   "execution_count": null,
   "id": "c162c5e8-1a42-4c0c-b7f1-2551e85bc5d3",
   "metadata": {},
   "outputs": [],
   "source": []
  },
  {
   "cell_type": "code",
   "execution_count": null,
   "id": "e6006b47-fadf-4fd3-bb25-a7898ecb55c8",
   "metadata": {},
   "outputs": [],
   "source": []
  },
  {
   "cell_type": "code",
   "execution_count": null,
   "id": "d7e6da52-e97b-4ff1-b746-dac5c7122f9d",
   "metadata": {},
   "outputs": [],
   "source": []
  },
  {
   "cell_type": "code",
   "execution_count": null,
   "id": "164ad95e-bf6c-485a-a5a1-a4febb5b9fbb",
   "metadata": {},
   "outputs": [],
   "source": [
    "# def combine_files(df_1, df_2):\n",
    "#     df_1 = df_1.drop([\"UserID\", \"CreatedAt\", \"CollectedAt\"], axis=1)\n",
    "#     df_2 = df_2.drop([\"UserID\"], axis=1, inplace=True)\n",
    "#     df_final = pd.concat([df_1, df_2], axis=1)\n",
    "#     df_polluters_final = df_final.drop([\"TweetID\", \"Tweet\", \"CreatedAt\"], axis=1)\n",
    "#     return df\n",
    "\n",
    "\n",
    "# df_polutters_final = combine_files(df_polluters, df_polluters_tweets)\n",
    "# df_polluters_final.head()"
   ]
  },
  {
   "cell_type": "code",
   "execution_count": null,
   "id": "7a45696e-18b4-4583-9e8f-bfa43b661e85",
   "metadata": {},
   "outputs": [],
   "source": [
    "df_legitimate.head()"
   ]
  },
  {
   "cell_type": "code",
   "execution_count": null,
   "id": "659e1828-358e-4d32-bfa1-533b0ace45af",
   "metadata": {},
   "outputs": [],
   "source": [
    "df_legitimate.shape"
   ]
  },
  {
   "cell_type": "code",
   "execution_count": null,
   "id": "b57a086e-dacf-416d-aa81-c8b7185a1cd6",
   "metadata": {},
   "outputs": [],
   "source": []
  },
  {
   "cell_type": "code",
   "execution_count": null,
   "id": "4cabfc99-b23a-4b65-a757-37fd7291ec66",
   "metadata": {
    "scrolled": true
   },
   "outputs": [],
   "source": [
    "time_diff_polluters = calcul_time_diff(df_polluters_tweets)\n",
    "\n",
    "time_diff_polluters.head()"
   ]
  },
  {
   "cell_type": "code",
   "execution_count": null,
   "id": "051d1742-c367-4a5a-ad51-53d27c69d175",
   "metadata": {
    "scrolled": true
   },
   "outputs": [],
   "source": [
    "df_polluters_tweets.head()"
   ]
  },
  {
   "cell_type": "code",
   "execution_count": null,
   "id": "73c03f19-addd-4450-abd5-28bb361731c8",
   "metadata": {},
   "outputs": [],
   "source": [
    "df_legitimate_tweets.head()"
   ]
  },
  {
   "cell_type": "code",
   "execution_count": null,
   "id": "138831c4-ef8f-40b4-bae8-18cbec13032b",
   "metadata": {},
   "outputs": [],
   "source": [
    "df_polluters_tweets.shape, df_legitimate_tweets.shape"
   ]
  },
  {
   "cell_type": "code",
   "execution_count": null,
   "id": "c1c33afc-6886-46f5-baf4-dd0571aadd5a",
   "metadata": {},
   "outputs": [],
   "source": [
    "df_polluters_tweets.shape"
   ]
  },
  {
   "cell_type": "code",
   "execution_count": null,
   "id": "b358d630-b9cd-47c9-997f-b4c7c71725f1",
   "metadata": {},
   "outputs": [],
   "source": []
  },
  {
   "cell_type": "code",
   "execution_count": null,
   "id": "a48e4b64-46cb-49cc-a055-cefd355f64d5",
   "metadata": {},
   "outputs": [],
   "source": [
    "df_polluters_tweets.isna().sum()"
   ]
  },
  {
   "cell_type": "code",
   "execution_count": null,
   "id": "b49294c6-edf4-45c4-a20e-f8de0b6a4a6b",
   "metadata": {},
   "outputs": [],
   "source": [
    "857 + 19710"
   ]
  },
  {
   "cell_type": "code",
   "execution_count": null,
   "id": "fca8980e-4749-47f4-83eb-0dffa1cb8bc7",
   "metadata": {},
   "outputs": [],
   "source": [
    "df_polluters_tweets = df_polluters_tweets.drop_duplicates()"
   ]
  },
  {
   "cell_type": "code",
   "execution_count": null,
   "id": "59d1319f-77e7-4f3f-b2f2-c979bf582217",
   "metadata": {},
   "outputs": [],
   "source": [
    "df_polluters.shape"
   ]
  },
  {
   "cell_type": "code",
   "execution_count": null,
   "id": "0ca2bef6-5b78-4fe7-b60b-63ae2b6810ed",
   "metadata": {},
   "outputs": [],
   "source": [
    "df_polluters_followings.drop_duplicates().shape"
   ]
  },
  {
   "cell_type": "code",
   "execution_count": null,
   "id": "c6e151f0-9ade-4057-85f8-961761939422",
   "metadata": {},
   "outputs": [],
   "source": [
    "df_polluters.drop_duplicates().shape"
   ]
  },
  {
   "cell_type": "code",
   "execution_count": null,
   "id": "786fc2c9-189f-4b13-a7f5-0e0a0b75a5a1",
   "metadata": {},
   "outputs": [],
   "source": [
    "df_polluters_tweets.shape"
   ]
  },
  {
   "cell_type": "code",
   "execution_count": null,
   "id": "0a0034d6-554f-436c-ac65-94fc010f4cbc",
   "metadata": {},
   "outputs": [],
   "source": [
    "df_polluters.head()"
   ]
  },
  {
   "cell_type": "code",
   "execution_count": null,
   "id": "4d35519e-6071-476a-afd1-a080ae6c544e",
   "metadata": {},
   "outputs": [],
   "source": [
    "df_polluters_tweets.head()"
   ]
  },
  {
   "cell_type": "code",
   "execution_count": null,
   "id": "6cbf8537-941d-4ada-9669-ac96631ddfe9",
   "metadata": {},
   "outputs": [],
   "source": [
    "# def calcul_time_diff(df):\n",
    "#     # Convertir la colonne CreatedAt en datetime\n",
    "#     df[\"CreatedAt\"] = pd.to_datetime(df[\"CreatedAt\"])\n",
    "\n",
    "#     # Trier les tweets par utilisateur et par date\n",
    "#     df = df.sort_values(by=[\"UserID\", \"CreatedAt\"])\n",
    "\n",
    "#     # Calculer la différence de temps entre deux tweets consécutifs\n",
    "#     df[\"Time_Diff\"] = df.groupby(\"UserID\")[\"CreatedAt\"].diff()\n",
    "\n",
    "#     # Convertir la différence de temps en secondes\n",
    "#     # df[\"Time_Diff_Seconds\"] = df[\"Time_Diff\"].dt.total_seconds()\n",
    "\n",
    "#     # Calculer le temps moyen et maximal entre deux tweets consécutifs par utilisateur\n",
    "#     time_stats = (\n",
    "#         df.groupby(\"UserID\")[\"Time_Diff_Seconds\"].agg([\"mean\", \"max\"]).reset_index()\n",
    "#     )\n",
    "#     time_stats.columns = [\n",
    "#         \"UserID\",\n",
    "#         \"Mean_Time_Between_Tweets\",\n",
    "#         \"Max_Time_Between_Tweets\",\n",
    "#     ]\n",
    "#     return time_stats\n",
    "\n",
    "\n",
    "# # Afficher les résultats\n",
    "# time_diff_polluters = calcul_time_diff(df_polluters_tweets)\n",
    "\n",
    "# df_polluters_tweets = df_polluters_tweets.merge(\n",
    "#     time_diff_polluters, on=\"UserID\", how=\"left\"\n",
    "# )\n",
    "# df_polluters_tweets.head()"
   ]
  },
  {
   "cell_type": "code",
   "execution_count": null,
   "id": "4838cf77-91af-4149-802c-5aac8c4b11e5",
   "metadata": {},
   "outputs": [],
   "source": [
    "df_polluters.head()"
   ]
  },
  {
   "cell_type": "code",
   "execution_count": null,
   "id": "af0369bc-c127-44a1-849a-d82f0fc47472",
   "metadata": {},
   "outputs": [],
   "source": [
    "df_polluters_tweets.head()"
   ]
  },
  {
   "cell_type": "code",
   "execution_count": null,
   "id": "37b20918-035e-4234-a2c4-5734ad2d10e8",
   "metadata": {},
   "outputs": [],
   "source": [
    "df_polluters_tweets[\"count_AT\"]"
   ]
  },
  {
   "cell_type": "code",
   "execution_count": null,
   "id": "a370a9a6-75dc-458d-96f4-d601d11633f2",
   "metadata": {},
   "outputs": [],
   "source": [
    "df_polluters_tweets[\"Tweet\"] = df_polluters_tweets[\"Tweet\"].astype(\"str\")\n",
    "df_polluters_tweets[\"count_AT\"] = df_polluters_tweets[\"Tweet\"].apply(\n",
    "    lambda x: x.count(\"@\")\n",
    ")\n",
    "\n",
    "df_polluters_tweets[\"Tweet_Length\"] = df_polluters_tweets[\"Tweet\"].apply(len)\n",
    "\n",
    "df_polluters_tweets[\"Proportion_AT\"] = df_polluters_tweets.apply(\n",
    "    lambda row: (\n",
    "        row[\"count_AT\"] / row[\"Tweet_Length\"] if row[\"Tweet_Length\"] != 0 else 0\n",
    "    ),\n",
    "    axis=1,\n",
    ")"
   ]
  },
  {
   "cell_type": "code",
   "execution_count": null,
   "id": "1b815d94-99bf-47a5-8751-2cfe9f3c36f2",
   "metadata": {},
   "outputs": [],
   "source": [
    "df_polluters_tweets[\"Tweet_Length\"] = df_polluters_tweets[\"Tweet\"].apply(len)"
   ]
  },
  {
   "cell_type": "code",
   "execution_count": null,
   "id": "54afef40-3252-4497-8ada-6575835ec9de",
   "metadata": {},
   "outputs": [],
   "source": [
    "df_polluters_tweets[\"Proportion_AT\"] = df_polluters_tweets.apply(\n",
    "    lambda row: (\n",
    "        row[\"count_AT\"] / row[\"Tweet_Length\"] if row[\"Tweet_Length\"] != 0 else 0\n",
    "    ),\n",
    "    axis=1,\n",
    ")"
   ]
  },
  {
   "cell_type": "code",
   "execution_count": null,
   "id": "46a64a78-c704-4188-a6b0-1c5a07708256",
   "metadata": {},
   "outputs": [],
   "source": [
    "df_polluters_tweets.head()"
   ]
  },
  {
   "cell_type": "code",
   "execution_count": null,
   "id": "ca78e774-ddaa-49d4-8bad-6ffdd9b45e5a",
   "metadata": {},
   "outputs": [],
   "source": [
    "df_polluters_tweets[\"Proportion_AT\"].sample(20)"
   ]
  },
  {
   "cell_type": "code",
   "execution_count": null,
   "id": "3651b0dc-9a65-4652-897e-81ac9b6a3812",
   "metadata": {},
   "outputs": [],
   "source": [
    "def calculate_at_proportion(df):\n",
    "    \"\"\"\n",
    "    Calculate the proportion of '@' mentions in the 'Tweet' column of a dataframe.\n",
    "\n",
    "    Parameters:\n",
    "        df (pd.DataFrame): The input dataframe containing a 'Tweet' column.\n",
    "\n",
    "    Returns:\n",
    "        pd.DataFrame: The modified dataframe with new columns:\n",
    "                     - 'count_AT': Number of '@' mentions in each tweet.\n",
    "                     - 'Tweet_Length': Length of each tweet.\n",
    "                     - 'Proportion_AT': Proportion of '@' mentions in each tweet.\n",
    "    \"\"\"\n",
    "    # Ensure the 'Tweet' column is treated as a string\n",
    "    df[\"Tweet\"] = df[\"Tweet\"].astype(str)\n",
    "\n",
    "    # Count the number of '@' mentions in each tweet\n",
    "    df[\"count_AT\"] = df[\"Tweet\"].apply(lambda x: x.count(\"@\"))\n",
    "\n",
    "    # Calculate the length of each tweet\n",
    "    df[\"Tweet_Length\"] = df[\"Tweet\"].apply(len)\n",
    "\n",
    "    # Calculate the proportion of '@' mentions\n",
    "    df[\"Proportion_AT\"] = df.apply(\n",
    "        lambda row: (\n",
    "            row[\"count_AT\"] / row[\"Tweet_Length\"] if row[\"Tweet_Length\"] != 0 else 0\n",
    "        ),\n",
    "        axis=1,\n",
    "    )\n",
    "\n",
    "    return df"
   ]
  },
  {
   "cell_type": "code",
   "execution_count": null,
   "id": "75bb5299-8a2b-40d2-b9bc-4447a57e7d8e",
   "metadata": {},
   "outputs": [],
   "source": [
    "df_legitimate_tweets = calculate_at_proportion(df_legitimate_tweets)\n",
    "df_legitimate_tweets.head()"
   ]
  },
  {
   "cell_type": "code",
   "execution_count": null,
   "id": "819df327-47a8-4604-8a60-c5caa711adb1",
   "metadata": {},
   "outputs": [],
   "source": []
  }
 ],
 "metadata": {
  "kernelspec": {
   "display_name": "Python 3 (ipykernel)",
   "language": "python",
   "name": "python3"
  },
  "language_info": {
   "codemirror_mode": {
    "name": "ipython",
    "version": 3
   },
   "file_extension": ".py",
   "mimetype": "text/x-python",
   "name": "python",
   "nbconvert_exporter": "python",
   "pygments_lexer": "ipython3",
   "version": "3.12.2"
  }
 },
 "nbformat": 4,
 "nbformat_minor": 5
}
